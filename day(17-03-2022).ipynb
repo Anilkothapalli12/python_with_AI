{
 "cells": [
  {
   "cell_type": "code",
   "execution_count": 2,
   "id": "d1e9bd40",
   "metadata": {},
   "outputs": [
    {
     "name": "stdout",
     "output_type": "stream",
     "text": [
      "27.0\n",
      "19683.0\n"
     ]
    }
   ],
   "source": [
    "# power \n",
    "print(a.pow(3,3))\n",
    "print(a.pow(3,9))"
   ]
  },
  {
   "cell_type": "code",
   "execution_count": 3,
   "id": "61dd0085",
   "metadata": {},
   "outputs": [
    {
     "name": "stdout",
     "output_type": "stream",
     "text": [
      "254.46900494077323\n"
     ]
    }
   ],
   "source": [
    "# Area of circle\n",
    "# pie*r*\n",
    "r = 9\n",
    "pie = a.pi\n",
    "print(pie*r*r)"
   ]
  },
  {
   "cell_type": "markdown",
   "id": "5946cea4",
   "metadata": {},
   "source": [
    "# Turtle module:"
   ]
  },
  {
   "cell_type": "code",
   "execution_count": 15,
   "id": "80c76d50",
   "metadata": {},
   "outputs": [],
   "source": [
    "# draw a triangle\n",
    "import turtle as t\n",
    "turtle = t.Turtle()\n",
    "for i in range(3):\n",
    "    t.backward(100)\n",
    "    t.right(120)\n",
    "t.done()"
   ]
  },
  {
   "cell_type": "code",
   "execution_count": 1,
   "id": "42ae9b13",
   "metadata": {},
   "outputs": [],
   "source": [
    "# draw a square\n",
    "import turtle as t\n",
    "turtle = t.Turtle()\n",
    "for i in range(4):\n",
    "    t.backward(100)\n",
    "    t.right(90)\n",
    "t.done()   \n"
   ]
  },
  {
   "cell_type": "code",
   "execution_count": 3,
   "id": "8e70c56a",
   "metadata": {},
   "outputs": [],
   "source": [
    "# draw a pentagon\n",
    "import turtle as t\n",
    "turtle = t.Turtle()\n",
    "for i in range(5):\n",
    "    t.backward(100)\n",
    "    t.right(72)\n",
    "t.done()    "
   ]
  },
  {
   "cell_type": "code",
   "execution_count": 1,
   "id": "676fed0e",
   "metadata": {},
   "outputs": [],
   "source": [
    "# draw a rectangle\n",
    "import turtle as t\n",
    "turtle = t.Turtle()\n",
    "for i in range(2):\n",
    "    t.backward(100)\n",
    "    t.right(90)\n",
    "    t.backward(50)\n",
    "    t.right(90)\n",
    "t.done()    "
   ]
  },
  {
   "cell_type": "code",
   "execution_count": 1,
   "id": "9d502dc5",
   "metadata": {},
   "outputs": [],
   "source": [
    "# draw a rectangle\n",
    "import turtle as t\n",
    "turtle = t.Turtle()\n",
    "t.color(\"blue\")\n",
    "for i in range(2):\n",
    "    t.backward(100)\n",
    "    t.right(90)\n",
    "    t.backward(50)\n",
    "    t.right(90)\n",
    "t.done()    "
   ]
  },
  {
   "cell_type": "code",
   "execution_count": 1,
   "id": "74f9c6b0",
   "metadata": {},
   "outputs": [],
   "source": [
    "# draw a circle\n",
    "import turtle as t\n",
    "turtle = t.Turtle()\n",
    "for i in range(360):\n",
    "    t.backward(1)\n",
    "    t.right(1)\n",
    "t.done()    "
   ]
  },
  {
   "cell_type": "code",
   "execution_count": 1,
   "id": "aa01d67f",
   "metadata": {},
   "outputs": [],
   "source": [
    "# draw a spiraling star\n",
    "import turtle as t\n",
    "turtle = t.Turtle()\n",
    "t.color(\"blue\")\n",
    "t.speed(100)\n",
    "for i in range(50):\n",
    "    t.forward(i*10)\n",
    "    t.right(144)\n",
    "t.done()    \n"
   ]
  },
  {
   "cell_type": "code",
   "execution_count": 1,
   "id": "d0cc2ca7",
   "metadata": {},
   "outputs": [],
   "source": [
    "# square spiraling\n",
    "import turtle as t\n",
    "turtle = t.Turtle()\n",
    "t.color(\"blue\")\n",
    "t.speed(10)\n",
    "for i in range(200):\n",
    "    t.forward(i )\n",
    "    t.right(91)\n",
    "t.done()    \n"
   ]
  },
  {
   "cell_type": "code",
   "execution_count": null,
   "id": "35ce85de",
   "metadata": {},
   "outputs": [],
   "source": []
  }
 ],
 "metadata": {
  "kernelspec": {
   "display_name": "Python 3 (ipykernel)",
   "language": "python",
   "name": "python3"
  },
  "language_info": {
   "codemirror_mode": {
    "name": "ipython",
    "version": 3
   },
   "file_extension": ".py",
   "mimetype": "text/x-python",
   "name": "python",
   "nbconvert_exporter": "python",
   "pygments_lexer": "ipython3",
   "version": "3.9.7"
  }
 },
 "nbformat": 4,
 "nbformat_minor": 5
}
