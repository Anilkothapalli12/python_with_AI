{
 "cells": [
  {
   "cell_type": "markdown",
   "id": "04ad06fe",
   "metadata": {},
   "source": [
    "# ANIL\n",
    "## ANIL\n",
    "### ANIL\n",
    "#### ANIL\n",
    "\n",
    "# Python \n",
    "    - python1\n",
    "    -python2\n",
    "    \n",
    "# Font styles \n",
    "   - *python*\n",
    "   - **python**\n",
    "   - ***python***\n",
    "    \n",
    "   # Print Function():\n",
    "     - **in python print function used to print specific text or message**"
   ]
  },
  {
   "cell_type": "markdown",
   "id": "62121b51",
   "metadata": {},
   "source": [
    "print (\"HELLO ANIL BUJJI\")"
   ]
  },
  {
   "cell_type": "code",
   "execution_count": 3,
   "id": "ba462dda",
   "metadata": {},
   "outputs": [
    {
     "name": "stdout",
     "output_type": "stream",
     "text": [
      "HELLO ,PRUDHVI\n"
     ]
    }
   ],
   "source": [
    "print (\"HELLO ,PRUDHVI\")"
   ]
  },
  {
   "cell_type": "code",
   "execution_count": 4,
   "id": "64ba5256",
   "metadata": {},
   "outputs": [
    {
     "name": "stdout",
     "output_type": "stream",
     "text": [
      "HELLO ,KESAV ,SINDU,RUPA ,SANDEEP\n"
     ]
    }
   ],
   "source": [
    "print (\"HELLO ,KESAV ,SINDU,RUPA ,SANDEEP\")"
   ]
  },
  {
   "cell_type": "markdown",
   "id": "f8150732",
   "metadata": {},
   "source": [
    "# variables:\n",
    "   - **to store some data values**"
   ]
  },
  {
   "cell_type": "code",
   "execution_count": 5,
   "id": "25b2526d",
   "metadata": {},
   "outputs": [
    {
     "name": "stdout",
     "output_type": "stream",
     "text": [
      "15\n"
     ]
    }
   ],
   "source": [
    "a = 15 # single value assigned to single variable\n",
    "print(a)"
   ]
  },
  {
   "cell_type": "code",
   "execution_count": 6,
   "id": "34adbccb",
   "metadata": {},
   "outputs": [
    {
     "name": "stdout",
     "output_type": "stream",
     "text": [
      "20 20 20\n"
     ]
    }
   ],
   "source": [
    "a = b = c = 20 # single value assigned to multiple variables\n",
    "print(a,b,c)"
   ]
  },
  {
   "cell_type": "code",
   "execution_count": 7,
   "id": "8779b482",
   "metadata": {},
   "outputs": [
    {
     "name": "stdout",
     "output_type": "stream",
     "text": [
      "5 10 15\n"
     ]
    }
   ],
   "source": [
    "a,b,c = 5,10,15 # multiple values assigned to multiple variables\n",
    "print(a,b,c)"
   ]
  },
  {
   "cell_type": "markdown",
   "id": "bf132761",
   "metadata": {},
   "source": [
    "# Input Function:\n",
    "   - **accept input from user"
   ]
  },
  {
   "cell_type": "code",
   "execution_count": 9,
   "id": "de61e123",
   "metadata": {},
   "outputs": [
    {
     "name": "stdout",
     "output_type": "stream",
     "text": [
      "enter your name:ANIL\n",
      "your name is : ANIL\n",
      "<class 'str'>\n"
     ]
    }
   ],
   "source": [
    "# Input as text \n",
    "x = input(\"enter your name:\")\n",
    "print(\"your name is :\",x)\n",
    "print(type(x))"
   ]
  },
  {
   "cell_type": "code",
   "execution_count": 11,
   "id": "9c83eb25",
   "metadata": {},
   "outputs": [
    {
     "name": "stdout",
     "output_type": "stream",
     "text": [
      "enter a number:45\n",
      "45\n",
      "<class 'str'>\n"
     ]
    }
   ],
   "source": [
    "# Input as number\n",
    "n = input(\"enter a number:\")\n",
    "print(n)\n",
    "print(type(n))"
   ]
  },
  {
   "cell_type": "markdown",
   "id": "2beb8163",
   "metadata": {},
   "source": [
    "# Data types:"
   ]
  },
  {
   "cell_type": "code",
   "execution_count": 19,
   "id": "75a21eb8",
   "metadata": {},
   "outputs": [
    {
     "name": "stdout",
     "output_type": "stream",
     "text": [
      "10\n",
      "<class 'int'>\n"
     ]
    }
   ],
   "source": [
    "# integer\n",
    "x = 10\n",
    "print(x)\n",
    "print(type(x))\n"
   ]
  },
  {
   "cell_type": "code",
   "execution_count": 22,
   "id": "2f7b55a4",
   "metadata": {},
   "outputs": [
    {
     "name": "stdout",
     "output_type": "stream",
     "text": [
      "20.254\n",
      "<class 'float'>\n"
     ]
    }
   ],
   "source": [
    "# float\n",
    "a = 20.254\n",
    "print(a)\n",
    "print(type(a))\n"
   ]
  },
  {
   "cell_type": "code",
   "execution_count": 23,
   "id": "7fb78da1",
   "metadata": {},
   "outputs": [
    {
     "name": "stdout",
     "output_type": "stream",
     "text": [
      "python\n",
      "<class 'str'>\n"
     ]
    }
   ],
   "source": [
    "# string\n",
    "y = \"python\"\n",
    "print(y)\n",
    "print(type(y))\n"
   ]
  },
  {
   "cell_type": "markdown",
   "id": "3e014b00",
   "metadata": {},
   "source": [
    "# Data Conversions:"
   ]
  },
  {
   "cell_type": "code",
   "execution_count": 27,
   "id": "1ff7ec19",
   "metadata": {},
   "outputs": [
    {
     "name": "stdout",
     "output_type": "stream",
     "text": [
      "5 <class 'int'>\n",
      "5.0 <class 'float'>\n",
      "5 <class 'str'>\n"
     ]
    }
   ],
   "source": [
    "# integer\n",
    "n = 5\n",
    "print(n,type(n))\n",
    "f = float(n)\n",
    "print(f,type(f))\n",
    "s = str(n)\n",
    "print(s,type(s))"
   ]
  },
  {
   "cell_type": "code",
   "execution_count": 36,
   "id": "daaa2997",
   "metadata": {},
   "outputs": [
    {
     "name": "stdout",
     "output_type": "stream",
     "text": [
      "55.6 <class 'float'>\n",
      "55 <class 'int'>\n",
      "55.6 <class 'str'>\n"
     ]
    }
   ],
   "source": [
    "# float \n",
    "n = 55.6\n",
    "print(n,type(n))\n",
    "f = int(n)\n",
    "print(f,type(f))\n",
    "s = str(n)\n",
    "print(s,type(s))"
   ]
  },
  {
   "cell_type": "code",
   "execution_count": 40,
   "id": "07b53cb8",
   "metadata": {},
   "outputs": [
    {
     "name": "stdout",
     "output_type": "stream",
     "text": [
      "354 <class 'str'>\n",
      "354.0 <class 'float'>\n",
      "354 <class 'int'>\n"
     ]
    }
   ],
   "source": [
    "# string\n",
    "n = \"354\"\n",
    "print(n,type(n))\n",
    "f = float(n)\n",
    "print(f,type(f))\n",
    "s = int(n)\n",
    "print(s,type(s))"
   ]
  },
  {
   "cell_type": "markdown",
   "id": "e4304b53",
   "metadata": {},
   "source": [
    "Display three string “Name”, “Is”, “James” as “Name**Is**James”"
   ]
  },
  {
   "cell_type": "code",
   "execution_count": 41,
   "id": "f5df9a12",
   "metadata": {},
   "outputs": [
    {
     "name": "stdout",
     "output_type": "stream",
     "text": [
      "enter your name :james\n",
      "name is  james\n"
     ]
    }
   ],
   "source": [
    "n = input(\"enter your name :\")\n",
    "print(\"name is \",n)"
   ]
  },
  {
   "cell_type": "markdown",
   "id": "7c3f696a",
   "metadata": {},
   "source": [
    "Write a Python program which accepts the radius of a circle from the user and compute the area .\n",
    "\n"
   ]
  },
  {
   "cell_type": "code",
   "execution_count": 42,
   "id": "8e0407e0",
   "metadata": {},
   "outputs": [
    {
     "name": "stdout",
     "output_type": "stream",
     "text": [
      "enter radius :15\n",
      "706.5\n"
     ]
    }
   ],
   "source": [
    "pi = 3.14\n",
    "r = int(input(\"enter radius :\"))\n",
    "print(pi*r*r)"
   ]
  },
  {
   "cell_type": "markdown",
   "id": "656c5530",
   "metadata": {},
   "source": [
    "Accept two numbers from the user and return their sum, multiplication and division"
   ]
  },
  {
   "cell_type": "code",
   "execution_count": 43,
   "id": "250ab764",
   "metadata": {},
   "outputs": [
    {
     "name": "stdout",
     "output_type": "stream",
     "text": [
      "65\n",
      "87\n",
      "152 -22 5655 0.7471264367816092\n"
     ]
    }
   ],
   "source": [
    "a = int(input())\n",
    "b = int(input())\n",
    "c = a+b\n",
    "d = a-b\n",
    "e = a*b\n",
    "f = a/b\n",
    "print(c,d,e,f)"
   ]
  },
  {
   "cell_type": "markdown",
   "id": "4e349a18",
   "metadata": {},
   "source": [
    "Accept two numbers from the user and return their sum, multiplication and division"
   ]
  },
  {
   "cell_type": "code",
   "execution_count": 44,
   "id": "d8969376",
   "metadata": {},
   "outputs": [
    {
     "name": "stdout",
     "output_type": "stream",
     "text": [
      "enter a year :1945\n",
      "1995\n"
     ]
    }
   ],
   "source": [
    "x = int(input(\"enter a year :\" ))\n",
    "x = x+50\n",
    "print(x)\n"
   ]
  },
  {
   "cell_type": "code",
   "execution_count": null,
   "id": "0a37a00e",
   "metadata": {},
   "outputs": [],
   "source": []
  }
 ],
 "metadata": {
  "kernelspec": {
   "display_name": "Python 3",
   "language": "python",
   "name": "python3"
  },
  "language_info": {
   "codemirror_mode": {
    "name": "ipython",
    "version": 3
   },
   "file_extension": ".py",
   "mimetype": "text/x-python",
   "name": "python",
   "nbconvert_exporter": "python",
   "pygments_lexer": "ipython3",
   "version": "3.8.8"
  }
 },
 "nbformat": 4,
 "nbformat_minor": 5
}
