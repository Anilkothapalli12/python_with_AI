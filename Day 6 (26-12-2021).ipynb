{
 "cells": [
  {
   "cell_type": "code",
   "execution_count": 1,
   "id": "647e1186",
   "metadata": {},
   "outputs": [
    {
     "name": "stdout",
     "output_type": "stream",
     "text": [
      "30\n",
      "-10\n",
      "200\n",
      "0.5\n",
      "10\n",
      "100000000000000000000\n",
      "0\n"
     ]
    }
   ],
   "source": [
    " x = 10\n",
    " y = 20\n",
    "print(x+y)\n",
    "print(x-y)\n",
    "print(x*y)\n",
    "print(x/y)\n",
    "print(x%y)\n",
    "print(x**y)\n",
    "print(x//y)"
   ]
  },
  {
   "cell_type": "markdown",
   "id": "3e3cd40e",
   "metadata": {},
   "source": [
    "# Assignment operators:\n",
    " - used to assign values to variables\n",
    " - operators"
   ]
  },
  {
   "cell_type": "code",
   "execution_count": 9,
   "id": "af87d69a",
   "metadata": {},
   "outputs": [
    {
     "name": "stdout",
     "output_type": "stream",
     "text": [
      "6\n",
      "1\n",
      "2\n",
      "2\n",
      "16\n",
      "3\n"
     ]
    }
   ],
   "source": [
    "x = 4\n",
    "x += 2\n",
    "print(x)\n",
    "x -= 5\n",
    "print(x)\n",
    "x *= 2\n",
    "print(x)\n",
    "x %= 5\n",
    "print(x)\n",
    "x **= 4\n",
    "print(x)\n",
    "x //= 5\n",
    "print(x)"
   ]
  },
  {
   "cell_type": "markdown",
   "id": "404149e9",
   "metadata": {},
   "source": [
    "# Comparision Operators:\n",
    " - used to compare values\n",
    " - operators:\n",
    " \n",
    "    - **'=='**\n",
    "    - **'!='**\n",
    "    - **'<'**\n",
    "    - **'>'**\n",
    "    - **'<='**\n",
    "    - **'>='**"
   ]
  },
  {
   "cell_type": "code",
   "execution_count": 12,
   "id": "240d3e1e",
   "metadata": {},
   "outputs": [
    {
     "name": "stdout",
     "output_type": "stream",
     "text": [
      "False\n",
      "True\n",
      "True\n",
      "False\n",
      "True\n",
      "False\n"
     ]
    }
   ],
   "source": [
    "x = 5\n",
    "y= 10\n",
    "print(x==y)\n",
    "print(x!=y)\n",
    "print(x<y)\n",
    "print(x>y)\n",
    "print(x<=y)\n",
    "print(x>=y)"
   ]
  },
  {
   "cell_type": "markdown",
   "id": "5503d962",
   "metadata": {},
   "source": [
    "# Logical Operatpors\n",
    " - used to compare conditional statements\n",
    " - operators:\n",
    "   - 'and'\n",
    "   -  'or'\n",
    "   - 'not'"
   ]
  },
  {
   "cell_type": "code",
   "execution_count": 15,
   "id": "1c069fd4",
   "metadata": {},
   "outputs": [
    {
     "name": "stdout",
     "output_type": "stream",
     "text": [
      "True\n",
      "True\n",
      "False\n"
     ]
    }
   ],
   "source": [
    "x = 15\n",
    "print(x < 20 and x > 10)\n",
    "print(x < 35 or x > 50)\n",
    "print (not(x < 25 or x > 55))"
   ]
  },
  {
   "cell_type": "markdown",
   "id": "a9aac8fd",
   "metadata": {},
   "source": [
    "# Identity Operators:\n",
    "  - used to compare objects\n",
    "  - operators \n",
    "     - 'is'\n",
    "     -  'is not'"
   ]
  },
  {
   "cell_type": "code",
   "execution_count": 16,
   "id": "94edffbf",
   "metadata": {},
   "outputs": [
    {
     "name": "stdout",
     "output_type": "stream",
     "text": [
      "False\n",
      "False\n",
      "True\n",
      "True\n",
      "False\n"
     ]
    }
   ],
   "source": [
    "a= 10\n",
    "b=20\n",
    "c=30\n",
    "print(a is b)\n",
    "print(a is c)\n",
    "print(a is not b)\n",
    "print (a is not c)\n",
    "print( a is b is not c)"
   ]
  },
  {
   "cell_type": "markdown",
   "id": "c7e8bb94",
   "metadata": {},
   "source": [
    "# Membership operators:\n",
    " - used to test given sequence in presented operators\n",
    "    - 'in'\n",
    "    - 'not in'"
   ]
  },
  {
   "cell_type": "code",
   "execution_count": 20,
   "id": "e668ff48",
   "metadata": {},
   "outputs": [
    {
     "name": "stdout",
     "output_type": "stream",
     "text": [
      "True\n",
      "True\n",
      "False\n",
      "False\n"
     ]
    }
   ],
   "source": [
    "a = \"ANIL\"\n",
    "print(\"A\" in a)\n",
    "print(\"IL\"  in a)\n",
    "print(\"AL\" in a)\n",
    "print(\"S\" in a )"
   ]
  },
  {
   "cell_type": "markdown",
   "id": "bf671248",
   "metadata": {},
   "source": [
    "# Control flow statements:\n",
    " - conditional statements\n",
    "   - if-else statement\n",
    " - Looping statements \n",
    "   - while loop statement \n",
    "   - for loop statement"
   ]
  },
  {
   "cell_type": "markdown",
   "id": "79046b00",
   "metadata": {},
   "source": [
    "# if-else statements:"
   ]
  },
  {
   "cell_type": "code",
   "execution_count": 21,
   "id": "43d8e26d",
   "metadata": {},
   "outputs": [
    {
     "ename": "SyntaxError",
     "evalue": "invalid syntax (<ipython-input-21-6ac45b8f932b>, line 4)",
     "output_type": "error",
     "traceback": [
      "\u001b[1;36m  File \u001b[1;32m\"<ipython-input-21-6ac45b8f932b>\"\u001b[1;36m, line \u001b[1;32m4\u001b[0m\n\u001b[1;33m    elif:\u001b[0m\n\u001b[1;37m        ^\u001b[0m\n\u001b[1;31mSyntaxError\u001b[0m\u001b[1;31m:\u001b[0m invalid syntax\n"
     ]
    }
   ],
   "source": [
    "#syntax:\n",
    "if boolean_condition:\n",
    "     statement\n",
    "elif:\n",
    "     statement\n",
    "else:\n",
    "     statement"
   ]
  },
  {
   "cell_type": "code",
   "execution_count": 31,
   "id": "6099231d",
   "metadata": {},
   "outputs": [
    {
     "name": "stdout",
     "output_type": "stream",
     "text": [
      "enter a number:9\n",
      "odd number\n"
     ]
    }
   ],
   "source": [
    "# check given is even or odd\n",
    "n = int(input(\"enter a number:\"))\n",
    "if n%2 ==0:\n",
    "    print(\"even number\")\n",
    "else:\n",
    "    print(\"odd number\")"
   ]
  },
  {
   "cell_type": "code",
   "execution_count": 33,
   "id": "3ebffd29",
   "metadata": {},
   "outputs": [
    {
     "name": "stdout",
     "output_type": "stream",
     "text": [
      "enter a number:20\n",
      "no\n"
     ]
    }
   ],
   "source": [
    "# check given is multiple of both 3 and 5\n",
    "n = int(input(\"enter a number:\"))\n",
    "if n%3==0 and n%5==0:\n",
    "    print(\"yes\")\n",
    "else:\n",
    "    print(\"no\")"
   ]
  },
  {
   "cell_type": "code",
   "execution_count": 57,
   "id": "23de5b16",
   "metadata": {},
   "outputs": [
    {
     "name": "stdout",
     "output_type": "stream",
     "text": [
      "enter a number54\n",
      "positive number\n"
     ]
    }
   ],
   "source": [
    "# check the given is positive number , negative number or zero\n",
    "n = int(input(\"enter a number\"))\n",
    "if n>0:\n",
    "    print(\"positive number\")\n",
    "elif n<0:\n",
    "    print(\"negative number\")\n",
    "else:\n",
    "    print(\"zero \")"
   ]
  },
  {
   "cell_type": "code",
   "execution_count": 56,
   "id": "e2d90196",
   "metadata": {},
   "outputs": [
    {
     "name": "stdout",
     "output_type": "stream",
     "text": [
      "enter a number89.2\n",
      "positive number\n"
     ]
    }
   ],
   "source": [
    "# check the given is positive number , negative number or zero\n",
    "n = eval(input(\"enter a number\"))\n",
    "if n>0:\n",
    "    print(\"positive number\")\n",
    "elif n<0:\n",
    "    print(\"negative number\")\n",
    "else:\n",
    "    print(\"zero \")"
   ]
  },
  {
   "cell_type": "code",
   "execution_count": 62,
   "id": "152963bf",
   "metadata": {},
   "outputs": [
    {
     "name": "stdout",
     "output_type": "stream",
     "text": [
      "enter a number5\n",
      "enter a number10\n",
      "enter a number15\n",
      "c\n"
     ]
    }
   ],
   "source": [
    "# find large number by given 3 inputs\n",
    "a = int(input(\"enter a number\"))\n",
    "b = int(input(\"enter a number\"))\n",
    "c = int(input(\"enter a number\"))\n",
    "if a>b and b>c:\n",
    "    print(\"a\")\n",
    "elif b>a and b>c:\n",
    "    print(\"b\")\n",
    "else:\n",
    "    print(\"c\")"
   ]
  },
  {
   "cell_type": "code",
   "execution_count": 109,
   "id": "51a14b46",
   "metadata": {},
   "outputs": [
    {
     "name": "stdout",
     "output_type": "stream",
     "text": [
      "enter  number45\n",
      "e\n"
     ]
    }
   ],
   "source": [
    "# find grading\n",
    "n= int(input(\"enter  number\"))\n",
    "if n<25:\n",
    "    print(\"f\")\n",
    "elif n>=25 and n<=45:\n",
    "    print(\"e\")\n",
    "elif n>45 and n<=50:\n",
    "    print(\"d\")\n",
    "elif n>50 and n<=60:\n",
    "    print(\"c\")\n",
    "elif n>60 and n<=80:\n",
    "    print(\"b\")\n",
    "else:\n",
    "    print(\"a\")"
   ]
  },
  {
   "cell_type": "markdown",
   "id": "6c8620f7",
   "metadata": {},
   "source": [
    "# While loop:"
   ]
  },
  {
   "cell_type": "code",
   "execution_count": 112,
   "id": "0aa55b6a",
   "metadata": {},
   "outputs": [
    {
     "name": "stdout",
     "output_type": "stream",
     "text": [
      "anil\n",
      "anil\n",
      "anil\n",
      "anil\n",
      "anil\n",
      "anil\n",
      "anil\n",
      "anil\n",
      "anil\n",
      "anil\n",
      "anil\n",
      "anil\n",
      "anil\n",
      "anil\n",
      "anil\n",
      "anil\n",
      "anil\n",
      "anil\n",
      "anil\n",
      "anil\n"
     ]
    }
   ],
   "source": [
    "i = 0\n",
    "while i<20:\n",
    "    print(\"anil\")\n",
    "    i = i+1"
   ]
  },
  {
   "cell_type": "code",
   "execution_count": 3,
   "id": "f11ecd1e",
   "metadata": {},
   "outputs": [
    {
     "name": "stdout",
     "output_type": "stream",
     "text": [
      "1 2 3 4 5 6 7 8 9 10 "
     ]
    }
   ],
   "source": [
    "# print 1 to 10 numbers\n",
    "i = 1 \n",
    "while i<11:\n",
    "    print(i,end=\" \")\n",
    "    i = i+1"
   ]
  },
  {
   "cell_type": "code",
   "execution_count": 2,
   "id": "5cd3e7f9",
   "metadata": {},
   "outputs": [
    {
     "name": "stdout",
     "output_type": "stream",
     "text": [
      "2 4 6 8 10 "
     ]
    }
   ],
   "source": [
    "# print even numbers from 1 to 10\n",
    "i =2\n",
    "while i <= 10:\n",
    "    if i %2==0:\n",
    "        print(i,end=\" \")\n",
    "    i = i+1"
   ]
  },
  {
   "cell_type": "code",
   "execution_count": 4,
   "id": "084dd63f",
   "metadata": {},
   "outputs": [
    {
     "name": "stdout",
     "output_type": "stream",
     "text": [
      "6\n",
      "1 2 3 6 "
     ]
    }
   ],
   "source": [
    "# input : 6 o/p: 1 2 3 6\n",
    "i = 1\n",
    "n = int(input(\"\"))\n",
    "while i<=n:\n",
    "    if n%i ==0:\n",
    "        print(i,end = \" \")\n",
    "    i = i+1    "
   ]
  },
  {
   "cell_type": "code",
   "execution_count": null,
   "id": "d3430046",
   "metadata": {},
   "outputs": [],
   "source": []
  }
 ],
 "metadata": {
  "kernelspec": {
   "display_name": "Python 3",
   "language": "python",
   "name": "python3"
  },
  "language_info": {
   "codemirror_mode": {
    "name": "ipython",
    "version": 3
   },
   "file_extension": ".py",
   "mimetype": "text/x-python",
   "name": "python",
   "nbconvert_exporter": "python",
   "pygments_lexer": "ipython3",
   "version": "3.8.8"
  }
 },
 "nbformat": 4,
 "nbformat_minor": 5
}
