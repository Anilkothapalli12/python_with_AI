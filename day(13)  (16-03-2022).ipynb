{
 "cells": [
  {
   "cell_type": "markdown",
   "id": "eeee06a5",
   "metadata": {},
   "source": [
    "# object oriented programming\n"
   ]
  },
  {
   "cell_type": "markdown",
   "id": "9e1f52c6",
   "metadata": {},
   "source": [
    "1.python supports differnt programming approach\n",
    "2.one of the popular approach  to solve programs by creating objects and it is object roiented\n",
    "3.object has two characteristics\n",
    "- attributes\n",
    "- behaviour\n",
    "\n",
    "example: parrot is an object that name,colour,age,as a attributes\n",
    "    singing,dancing,talking becomes a behaviour  "
   ]
  },
  {
   "cell_type": "markdown",
   "id": "d97b1e7f",
   "metadata": {},
   "source": [
    "# syntax"
   ]
  },
  {
   "cell_type": "code",
   "execution_count": null,
   "id": "7fff6700",
   "metadata": {},
   "outputs": [],
   "source": [
    "class parrot:\n",
    "    pass # to AVOID GETTING ERROR"
   ]
  },
  {
   "cell_type": "code",
   "execution_count": 1,
   "id": "7d2ba733",
   "metadata": {},
   "outputs": [
    {
     "name": "stdout",
     "output_type": "stream",
     "text": [
      "5\n"
     ]
    }
   ],
   "source": [
    "class parrot:\n",
    "    x = 5\n",
    "obj = parrot()\n",
    "print(obj.x)"
   ]
  },
  {
   "cell_type": "code",
   "execution_count": 2,
   "id": "bcc52cbd",
   "metadata": {},
   "outputs": [
    {
     "name": "stdout",
     "output_type": "stream",
     "text": [
      "my name is Anil\n"
     ]
    }
   ],
   "source": [
    "# create a method in class\n",
    "class cls :\n",
    "    # create a method\n",
    "    def test(self):\n",
    "        print(\"my name is Anil\")\n",
    "obj1 = cls()\n",
    "obj1.test()"
   ]
  },
  {
   "cell_type": "code",
   "execution_count": 3,
   "id": "180a8126",
   "metadata": {},
   "outputs": [
    {
     "name": "stdout",
     "output_type": "stream",
     "text": [
      "my name is : Anil\n"
     ]
    }
   ],
   "source": [
    "class cls1:\n",
    "    def test1(self,name):\n",
    "        print(\"my name is :\",name)\n",
    "obj2 = cls1()\n",
    "obj2.test1(\"Anil\")"
   ]
  },
  {
   "cell_type": "code",
   "execution_count": 8,
   "id": "14e50133",
   "metadata": {},
   "outputs": [
    {
     "data": {
      "text/plain": [
       "22"
      ]
     },
     "execution_count": 8,
     "metadata": {},
     "output_type": "execute_result"
    }
   ],
   "source": [
    "# Adding of 3 numbers \n",
    "class cls:\n",
    "    def test(self,a,b,c):\n",
    "        return(a+b+c)\n",
    "obj = cls()\n",
    "obj.test(5,9,8)"
   ]
  },
  {
   "cell_type": "code",
   "execution_count": 11,
   "id": "9dc62d05",
   "metadata": {},
   "outputs": [
    {
     "data": {
      "text/plain": [
       "25"
      ]
     },
     "execution_count": 11,
     "metadata": {},
     "output_type": "execute_result"
    }
   ],
   "source": [
    "# adding of 5 numbrs \n",
    "class cls:\n",
    "    def test(self,a,b,c,d,e):\n",
    "        return(a+b+c+d+e)\n",
    "obj = cls()\n",
    "obj.test(1,3,5,7,9)"
   ]
  },
  {
   "cell_type": "markdown",
   "id": "0affedea",
   "metadata": {},
   "source": [
    "# constructors"
   ]
  },
  {
   "cell_type": "code",
   "execution_count": 24,
   "id": "27a7c58e",
   "metadata": {},
   "outputs": [
    {
     "name": "stdout",
     "output_type": "stream",
     "text": [
      "Anil\n",
      "Male\n",
      "20\n"
     ]
    }
   ],
   "source": [
    "class person:\n",
    "    def __init__(self,name,age,gender):\n",
    "        self.name = name\n",
    "        self.age = age\n",
    "        self.gender = gender\n",
    "obj1= person(\"Anil\",\"Male\",20)\n",
    "print(obj1.name)\n",
    "print(obj1.age)\n",
    "print(obj1.gender)"
   ]
  },
  {
   "cell_type": "code",
   "execution_count": 35,
   "id": "ad8ff873",
   "metadata": {},
   "outputs": [
    {
     "name": "stdout",
     "output_type": "stream",
     "text": [
      "my name is:Ramu\n",
      "Ramu\n",
      "25\n"
     ]
    }
   ],
   "source": [
    "class person:\n",
    "    def __init__(self,name,age):\n",
    "        self.name = name\n",
    "        self.age = age\n",
    "    def mymethod(self):\n",
    "            print(\"my name is:\"+self.name)\n",
    "obj2 = person(\"Anil\",20)\n",
    "obj2.age = 25\n",
    "obj2.name = \"Ramu\"\n",
    "obj2.mymethod()\n",
    "print(obj2.name)\n",
    "print(obj2.age)"
   ]
  },
  {
   "cell_type": "code",
   "execution_count": 39,
   "id": "6d515a79",
   "metadata": {},
   "outputs": [
    {
     "name": "stdout",
     "output_type": "stream",
     "text": [
      "my name is:Ramu\n",
      "Ramu\n"
     ]
    },
    {
     "ename": "AttributeError",
     "evalue": "'person' object has no attribute 'age'",
     "output_type": "error",
     "traceback": [
      "\u001b[1;31m---------------------------------------------------------------------------\u001b[0m",
      "\u001b[1;31mAttributeError\u001b[0m                            Traceback (most recent call last)",
      "\u001b[1;32m~\\AppData\\Local\\Temp/ipykernel_5728/512006309.py\u001b[0m in \u001b[0;36m<module>\u001b[1;34m\u001b[0m\n\u001b[0;32m     11\u001b[0m \u001b[0mobj2\u001b[0m\u001b[1;33m.\u001b[0m\u001b[0mmymethod\u001b[0m\u001b[1;33m(\u001b[0m\u001b[1;33m)\u001b[0m\u001b[1;33m\u001b[0m\u001b[1;33m\u001b[0m\u001b[0m\n\u001b[0;32m     12\u001b[0m \u001b[0mprint\u001b[0m\u001b[1;33m(\u001b[0m\u001b[0mobj2\u001b[0m\u001b[1;33m.\u001b[0m\u001b[0mname\u001b[0m\u001b[1;33m)\u001b[0m\u001b[1;33m\u001b[0m\u001b[1;33m\u001b[0m\u001b[0m\n\u001b[1;32m---> 13\u001b[1;33m \u001b[0mprint\u001b[0m\u001b[1;33m(\u001b[0m\u001b[0mobj2\u001b[0m\u001b[1;33m.\u001b[0m\u001b[0mage\u001b[0m\u001b[1;33m)\u001b[0m\u001b[1;33m\u001b[0m\u001b[1;33m\u001b[0m\u001b[0m\n\u001b[0m",
      "\u001b[1;31mAttributeError\u001b[0m: 'person' object has no attribute 'age'"
     ]
    }
   ],
   "source": [
    "class person:\n",
    "    def __init__(self,name,age):\n",
    "        self.name = name\n",
    "        self.age = age\n",
    "    def mymethod(self):\n",
    "            print(\"my name is:\"+self.name)\n",
    "obj2 = person(\"Anil\",20)\n",
    "obj2.age = 25\n",
    "del obj2.age\n",
    "obj2.name = \"Ramu\"\n",
    "obj2.mymethod()\n",
    "print(obj2.name)\n",
    "print(obj2.age)\n"
   ]
  },
  {
   "cell_type": "markdown",
   "id": "8bfe8ea1",
   "metadata": {},
   "source": [
    "# inheritance:\n",
    "- it is way of creating a new class using details of existing class without modifying it."
   ]
  },
  {
   "cell_type": "code",
   "execution_count": 47,
   "id": "ce8acda0",
   "metadata": {},
   "outputs": [
    {
     "name": "stdout",
     "output_type": "stream",
     "text": [
      "parrot is ready\n",
      "parrot\n",
      "fly fast\n"
     ]
    }
   ],
   "source": [
    "class Bird: # parent class \n",
    "    def __init__(self):\n",
    "        print(\"Bird is ready\")\n",
    "    def whozthis(self):\n",
    "        print(\"Bird\")\n",
    "    def fast(self):\n",
    "        print(\"fly fast\")\n",
    "class parrot(Bird): # child class \n",
    "    def __init__(self):\n",
    "        print(\"parrot is ready\")\n",
    "    def whozthis(self):\n",
    "        print(\"parrot\")\n",
    "    def run(self):\n",
    "        print(\"run faster\")\n",
    "obj = parrot()\n",
    "obj.whozthis()\n",
    "obj.fast()"
   ]
  },
  {
   "cell_type": "code",
   "execution_count": null,
   "id": "b67d64a1",
   "metadata": {},
   "outputs": [],
   "source": [
    "_"
   ]
  }
 ],
 "metadata": {
  "kernelspec": {
   "display_name": "Python 3 (ipykernel)",
   "language": "python",
   "name": "python3"
  },
  "language_info": {
   "codemirror_mode": {
    "name": "ipython",
    "version": 3
   },
   "file_extension": ".py",
   "mimetype": "text/x-python",
   "name": "python",
   "nbconvert_exporter": "python",
   "pygments_lexer": "ipython3",
   "version": "3.9.7"
  }
 },
 "nbformat": 4,
 "nbformat_minor": 5
}
